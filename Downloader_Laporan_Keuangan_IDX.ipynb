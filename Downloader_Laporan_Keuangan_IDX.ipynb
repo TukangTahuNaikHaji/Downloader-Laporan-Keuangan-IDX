{
  "nbformat": 4,
  "nbformat_minor": 0,
  "metadata": {
    "colab": {
      "provenance": []
    },
    "kernelspec": {
      "name": "python3",
      "display_name": "Python 3"
    },
    "language_info": {
      "name": "python"
    }
  },
  "cells": [
    {
      "cell_type": "code",
      "source": [
        "#@title Viewer Laporan Keuangan IDX 📄\n",
        "#@markdown Cara Penggunaan:\n",
        "#@markdown 1. Pilih Jenis Laporan\n",
        "#@markdown 1. Masukan Kode Perusahaan (Pisahkan Dengan Koma : AALI, MYOR, INDF)\n",
        "#@markdown 2. Masukan Tahun (Pisahkan Dengan Koma : 2020, 2021, 2022)\n",
        "#@markdown 3. Pilih Format (XlS, PDF)\n",
        "#@markdown 4. Klik Run di sisi kiri\n",
        "#@markdown 5. Gunakan Ekstensi di link jika ingin mendownload untuk mendownload semua laporan sekaligus\n",
        "#@markdown https://chromewebstore.google.com/detail/chrono-download-manager/mciiogijehkdemklbdcbfkefimifhecn\n",
        "\n",
        "Laporan       = \"Performance Summary\"   #@param [\"Performance Summary\", \"Laporan Keuangan\"] {allow-input: true}\n",
        "kode_input    = \"MYOR, INDF, AALI\"  #@param {type:\"string\"}\n",
        "tahun_input   = \"2020, 2021, 2022, 2023, 2024\"  #@param {type:\"string\"}\n",
        "format        = \"pdf\"   #@param [\"pdf\", \"xlsx\"] {allow-input: true}\n",
        "Link          = \"Full\" #@param [\"Clean Link\", \"Full\"] {allow-input: true}\n",
        "\n",
        "kode_list = [k.strip().upper() for k in kode_input.split(\",\")]\n",
        "tahun_list = [t.strip() for t in tahun_input.split(\",\")]\n",
        "\n",
        "if Laporan == \"Laporan Keuangan\":\n",
        "    template_url = (\n",
        "        \"https://www.idx.co.id/Portals/0/StaticData/ListedCompanies/Corporate_Actions/\"\n",
        "        \"New_Info_JSX/Jenis_Informasi/01_Laporan_Keuangan/02_Soft_Copy_Laporan_Keuangan/\"\n",
        "        \"Laporan%20Keuangan%20Tahun%20{tahun}/Audit/{kode}/FinancialStatement-{tahun}-Tahunan-{kode}.{ext}\"\n",
        "    )\n",
        "    for kode in kode_list:\n",
        "        for tahun in tahun_list:\n",
        "            url = template_url.format(tahun=tahun, kode=kode, ext=format)\n",
        "            if Link == \"Clean Link\":\n",
        "                print(url)\n",
        "            else:\n",
        "                nama_file = f\"{kode}-{tahun}\"\n",
        "                print(f\"{nama_file}:{url}\")\n",
        "\n",
        "elif Laporan == \"Performance Summary\":\n",
        "    template_url = (\n",
        "        \"https://www.idx.co.id/Portals/0/StaticData/ListedCompanies/PerformanceSummary/{kode}.pdf\"\n",
        "    )\n",
        "    for kode in kode_list:\n",
        "        url = template_url.format(kode=kode)\n",
        "        if Link == \"Clean Link\":\n",
        "            print(url)\n",
        "        else:\n",
        "            print(f\"{kode}:{url}\")\n",
        "\n",
        "else:\n",
        "    raise ValueError(\"Gak ada\")\n"
      ],
      "metadata": {
        "id": "7dcOh9mnCCr0",
        "collapsed": true,
        "outputId": "c5c6e370-e1d8-400b-b8bd-f6affc3695d5",
        "colab": {
          "base_uri": "https://localhost:8080/"
        }
      },
      "execution_count": 14,
      "outputs": [
        {
          "output_type": "stream",
          "name": "stdout",
          "text": [
            "MYOR:https://www.idx.co.id/Portals/0/StaticData/ListedCompanies/PerformanceSummary/MYOR.pdf\n",
            "INDF:https://www.idx.co.id/Portals/0/StaticData/ListedCompanies/PerformanceSummary/INDF.pdf\n",
            "AALI:https://www.idx.co.id/Portals/0/StaticData/ListedCompanies/PerformanceSummary/AALI.pdf\n"
          ]
        }
      ]
    }
  ]
}